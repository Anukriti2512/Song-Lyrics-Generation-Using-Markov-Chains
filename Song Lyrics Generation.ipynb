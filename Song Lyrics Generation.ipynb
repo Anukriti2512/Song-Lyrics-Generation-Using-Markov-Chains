{
 "cells": [
  {
   "cell_type": "code",
   "execution_count": 87,
   "metadata": {},
   "outputs": [],
   "source": [
    "import numpy as np"
   ]
  },
  {
   "cell_type": "code",
   "execution_count": 88,
   "metadata": {},
   "outputs": [],
   "source": [
    "def generateTable(data, k=4):\n",
    "    \n",
    "    T = {}\n",
    "    for i in range(len(data)-k):\n",
    "        \n",
    "        X = data[i:i+k]\n",
    "        Y = data[i+k]\n",
    "        \n",
    "        if T.get(X) is None:\n",
    "            \n",
    "            T[X] = {}\n",
    "            T[X][Y] = 1\n",
    "            \n",
    "        else:\n",
    "            if T[X].get(Y) is None:\n",
    "                T[X][Y] = 1\n",
    "            else:\n",
    "                T[X][Y]+= 1\n",
    "    \n",
    "    return T"
   ]
  },
  {
   "cell_type": "code",
   "execution_count": 89,
   "metadata": {},
   "outputs": [],
   "source": [
    "def convertFreqToProb(T):\n",
    "    \n",
    "    for ix in T.keys():\n",
    "        den = float(sum(T[ix].values()))\n",
    "        \n",
    "        for k in T[ix].keys():\n",
    "            T[ix][k] = T[ix][k]/den\n",
    "            \n",
    "    return T"
   ]
  },
  {
   "cell_type": "code",
   "execution_count": 90,
   "metadata": {},
   "outputs": [],
   "source": [
    "text_path = \"Apna Time Aayega.txt\"\n",
    "def loadText(filename):\n",
    "    \n",
    "    with open(filename) as f:\n",
    "        return f.read().lower()\n",
    "    \n",
    "text = loadText(text_path)\n",
    "#print(text)\n",
    "    "
   ]
  },
  {
   "cell_type": "code",
   "execution_count": 91,
   "metadata": {},
   "outputs": [],
   "source": [
    "def trainMarkovChain(text, k):\n",
    "    \n",
    "    T = generateTable(text, k)\n",
    "    T = convertFreqToProb(T)\n",
    "    \n",
    "    return T"
   ]
  },
  {
   "cell_type": "code",
   "execution_count": 92,
   "metadata": {},
   "outputs": [],
   "source": [
    "model = trainMarkovChain(text, 4)\n",
    "#print(model)"
   ]
  },
  {
   "cell_type": "code",
   "execution_count": 93,
   "metadata": {},
   "outputs": [],
   "source": [
    "def sample_next(ctx, T, k):\n",
    "    \n",
    "    ctx = ctx[-k:]\n",
    "    if T.get(ctx) is None:\n",
    "        return \" \"\n",
    "    possible_Chars = list(T[ctx].keys())\n",
    "    possible_Values = list(T[ctx].values())\n",
    "    \n",
    "    #print(possible_Chars)\n",
    "    #print(possible_Values)\n",
    "    return np.random.choice(possible_Chars, p=possible_Values)"
   ]
  },
  {
   "cell_type": "code",
   "execution_count": 98,
   "metadata": {},
   "outputs": [],
   "source": [
    "def generateText(starting_sent, k=4, maxLen=2000):\n",
    "    \n",
    "    sentence = starting_sent\n",
    "    ctx = sentence[-k:]\n",
    "    np.random.seed(11)\n",
    "    \n",
    "    for ix in range(maxLen):\n",
    "        \n",
    "        next_prediction = sample_next(ctx, model, k)\n",
    "        sentence+= next_prediction\n",
    "        ctx = sentence[-k:]\n",
    "        \n",
    "    return sentence"
   ]
  },
  {
   "cell_type": "code",
   "execution_count": 108,
   "metadata": {},
   "outputs": [],
   "source": [
    "gen_text = generateText(\"apna\", 4, 2000)\n",
    "#print(gen_text)"
   ]
  },
  {
   "cell_type": "code",
   "execution_count": 107,
   "metadata": {},
   "outputs": [
    {
     "data": {
      "text/plain": [
       "2004"
      ]
     },
     "execution_count": 107,
     "metadata": {},
     "output_type": "execute_result"
    }
   ],
   "source": [
    "file = open(\"lyrics.txt\", \"w+\")\n",
    "file.write(gen_text)\n",
    "#end"
   ]
  }
 ],
 "metadata": {
  "kernelspec": {
   "display_name": "Python 3",
   "language": "python",
   "name": "python3"
  },
  "language_info": {
   "codemirror_mode": {
    "name": "ipython",
    "version": 3
   },
   "file_extension": ".py",
   "mimetype": "text/x-python",
   "name": "python",
   "nbconvert_exporter": "python",
   "pygments_lexer": "ipython3",
   "version": "3.7.1"
  }
 },
 "nbformat": 4,
 "nbformat_minor": 2
}
