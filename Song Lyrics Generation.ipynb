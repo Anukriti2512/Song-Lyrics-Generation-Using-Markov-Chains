{
 "cells": [
  {
   "cell_type": "code",
   "execution_count": 116,
   "metadata": {},
   "outputs": [],
   "source": [
    "import numpy as np"
   ]
  },
  {
   "cell_type": "code",
   "execution_count": 117,
   "metadata": {},
   "outputs": [],
   "source": [
    "def generateTable(data, k=4):\n",
    "    \n",
    "    T = {}\n",
    "    for i in range(len(data)-k):\n",
    "        \n",
    "        X = data[i:i+k]\n",
    "        Y = data[i+k]\n",
    "        \n",
    "        if T.get(X) is None:\n",
    "            \n",
    "            T[X] = {}\n",
    "            T[X][Y] = 1\n",
    "            \n",
    "        else:\n",
    "            if T[X].get(Y) is None:\n",
    "                T[X][Y] = 1\n",
    "            else:\n",
    "                T[X][Y]+= 1\n",
    "    \n",
    "    return T"
   ]
  },
  {
   "cell_type": "code",
   "execution_count": 118,
   "metadata": {},
   "outputs": [],
   "source": [
    "def convertFreqToProb(T):\n",
    "    \n",
    "    for ix in T.keys():\n",
    "        den = float(sum(T[ix].values()))\n",
    "        \n",
    "        for k in T[ix].keys():\n",
    "            T[ix][k] = T[ix][k]/den\n",
    "            \n",
    "    return T"
   ]
  },
  {
   "cell_type": "code",
   "execution_count": 119,
   "metadata": {},
   "outputs": [],
   "source": [
    "#text_path = \"Apna Time Aayega.txt\"\n",
    "text_path = \"Taylor_Swift_Rep_Lyrics_Dataset.txt\"\n",
    "def loadText(filename):\n",
    "    \n",
    "    with open(filename) as f:\n",
    "        return f.read().lower()\n",
    "    \n",
    "text = loadText(text_path)\n",
    "#print(text)\n",
    "    "
   ]
  },
  {
   "cell_type": "code",
   "execution_count": 120,
   "metadata": {},
   "outputs": [],
   "source": [
    "def trainMarkovChain(text, k):\n",
    "    \n",
    "    T = generateTable(text, k)\n",
    "    T = convertFreqToProb(T)\n",
    "    \n",
    "    return T"
   ]
  },
  {
   "cell_type": "code",
   "execution_count": 121,
   "metadata": {},
   "outputs": [],
   "source": [
    "model = trainMarkovChain(text, 6)\n",
    "#print(model)"
   ]
  },
  {
   "cell_type": "code",
   "execution_count": 122,
   "metadata": {},
   "outputs": [],
   "source": [
    "def sample_next(ctx, T, k):\n",
    "    \n",
    "    ctx = ctx[-k:]\n",
    "    if T.get(ctx) is None:\n",
    "        return \" \"\n",
    "    possible_Chars = list(T[ctx].keys())\n",
    "    possible_Values = list(T[ctx].values())\n",
    "    \n",
    "    #print(possible_Chars)\n",
    "    #print(possible_Values)\n",
    "    return np.random.choice(possible_Chars, p=possible_Values)"
   ]
  },
  {
   "cell_type": "code",
   "execution_count": 123,
   "metadata": {},
   "outputs": [],
   "source": [
    "def generateText(starting_sent, k=4, maxLen=2000):\n",
    "    \n",
    "    sentence = starting_sent\n",
    "    ctx = sentence[-k:]\n",
    "    np.random.seed(13)\n",
    "    \n",
    "    for ix in range(maxLen):\n",
    "        \n",
    "        next_prediction = sample_next(ctx, model, k)\n",
    "        sentence+= next_prediction\n",
    "        ctx = sentence[-k:]\n",
    "        \n",
    "    return sentence"
   ]
  },
  {
   "cell_type": "code",
   "execution_count": 124,
   "metadata": {},
   "outputs": [],
   "source": [
    "#gen_text = generateText(\"apna\", 4, 2000)\n",
    "gen_text = generateText(\"lover \", 6, 2500)\n",
    "#print(gen_text)"
   ]
  },
  {
   "cell_type": "code",
   "execution_count": 125,
   "metadata": {},
   "outputs": [
    {
     "data": {
      "text/plain": [
       "2506"
      ]
     },
     "execution_count": 125,
     "metadata": {},
     "output_type": "execute_result"
    }
   ],
   "source": [
    "file = open(\"TS_new_song.txt\", \"w+\")\n",
    "file.write(gen_text)\n",
    "#end"
   ]
  },
  {
   "cell_type": "code",
   "execution_count": null,
   "metadata": {},
   "outputs": [],
   "source": []
  },
  {
   "cell_type": "code",
   "execution_count": null,
   "metadata": {},
   "outputs": [],
   "source": []
  }
 ],
 "metadata": {
  "kernelspec": {
   "display_name": "Python 3",
   "language": "python",
   "name": "python3"
  },
  "language_info": {
   "codemirror_mode": {
    "name": "ipython",
    "version": 3
   },
   "file_extension": ".py",
   "mimetype": "text/x-python",
   "name": "python",
   "nbconvert_exporter": "python",
   "pygments_lexer": "ipython3",
   "version": "3.7.1"
  }
 },
 "nbformat": 4,
 "nbformat_minor": 2
}
